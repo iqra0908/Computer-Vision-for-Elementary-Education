{
  "cells": [
    {
      "cell_type": "markdown",
      "metadata": {
        "id": "aq07DmDudmzj"
      },
      "source": [
        "# Train ResNet on Custom Dataset\n",
        "\n",
        "This notebook is a driver notebook to train a SVM Model using Google Colab"
      ]
    },
    {
      "cell_type": "code",
      "execution_count": null,
      "metadata": {
        "colab": {
          "base_uri": "https://localhost:8080/"
        },
        "id": "E9xaRek_dmzl",
        "outputId": "4a135ec5-3c6e-447c-805f-057e507918cc"
      },
      "outputs": [],
      "source": [
        "## Clone the repository\n",
        "!git clone 'https://github.com/iqra0908/Computer-Vision-for-Elementary-Education.git/'"
      ]
    },
    {
      "attachments": {},
      "cell_type": "markdown",
      "metadata": {},
      "source": [
        "### Run the model training file"
      ]
    },
    {
      "cell_type": "code",
      "execution_count": null,
      "metadata": {
        "colab": {
          "base_uri": "https://localhost:8080/"
        },
        "id": "Q94h8uDQdmzl",
        "outputId": "96b03fd8-b86b-41f7-8908-98bcfb1bb180"
      },
      "outputs": [],
      "source": [
        "!python ./Computer-Vision-for-Elementary-Education/Non_DL_Classifier/svm_training.py"
      ]
    }
  ],
  "metadata": {
    "colab": {
      "provenance": []
    },
    "kernelspec": {
      "display_name": "Python 3",
      "language": "python",
      "name": "python3"
    },
    "language_info": {
      "codemirror_mode": {
        "name": "ipython",
        "version": 3
      },
      "file_extension": ".py",
      "mimetype": "text/x-python",
      "name": "python",
      "nbconvert_exporter": "python",
      "pygments_lexer": "ipython3",
      "version": "3.9.6"
    },
    "orig_nbformat": 4,
    "vscode": {
      "interpreter": {
        "hash": "31f2aee4e71d21fbe5cf8b01ff0e069b9275f58929596ceb00d14d90e3e16cd6"
      }
    }
  },
  "nbformat": 4,
  "nbformat_minor": 0
}
